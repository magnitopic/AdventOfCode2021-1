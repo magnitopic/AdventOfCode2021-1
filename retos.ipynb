{
  "cells": [
    {
      "cell_type": "markdown",
      "metadata": {
        "colab_type": "text",
        "id": "view-in-github"
      },
      "source": [
        "<a href=\"https://colab.research.google.com/github/financieras/AdventOfCode2021/blob/master/retos.ipynb\" target=\"_parent\"><img src=\"https://colab.research.google.com/assets/colab-badge.svg\" alt=\"Open In Colab\"/></a>"
      ]
    },
    {
      "cell_type": "markdown",
      "metadata": {
        "id": "Nj_xjrmxSkzO"
      },
      "source": [
        "# Day 1\n",
        "\n",
        "## Divisores de una serie de números\n",
        "\n",
        "-   El usuario elige un rango de números, indicando el inicio y el final\n",
        "\n",
        "-   El programa muestra, junto a cada número, todos sus divisores \n",
        "\n",
        "**Ejemplo**\n",
        "\n",
        "-   Entre 100 - 110\n",
        "\n",
        "    -   100 -> [1,2,4,5,10,20,25,50,100]\n",
        "    -   101 -> [1,101]\n",
        "    -   102 -> [1,2,3,6,17,34,51,102]\n",
        "    -   103 -> [1,103]\n",
        "    -   104 -> [1,2,4,8,13,26,52,104]\n",
        "    -   105 -> [1,3,5,7,15,21,35,105]\n",
        "    -   106 -> [1,2,53,106]\n",
        "    -   107 -> [1,107]\n",
        "    -   108 -> [1,2,3,4,6,9,12,18,27,36,54,108]\n",
        "    -   109 -> [1,109]\n",
        "    -   110 -> [1,2,5,10,11,22,55,110]\n"
      ]
    },
    {
      "cell_type": "markdown",
      "metadata": {
        "id": "JrHRI7iyXqIO"
      },
      "source": [
        "# Day 2\n",
        "## Frecuencia de caracteres de un libro\n",
        "* Analizar la frecuencia de todos los caracteres que contiene un libro\n",
        "* El libro es: \n",
        " - Frankenstein; Or, The Modern Prometheus by Mary Wollstonecraft Shelley\n",
        "* Se puede obtener libremente del proyecto [Gutemberg](https://www.gutenberg.org/ebooks/84). Este es el libro en formato txt:\n",
        "  - [frankenstein.txt](https://github.com/financieras/AdventOfCode2021/blob/master/frankenstein.txt) \n",
        "* Mostrar en pantalla cuantas veces aparece cada caracter."
      ]
    },
    {
      "cell_type": "markdown",
      "metadata": {
        "id": "I8oEGkZBY2K8"
      },
      "source": [
        "# Day 3\n",
        "\n",
        "## Detectar el número diferente\n",
        "\n",
        "-   Generar un array de números enteros con una longitud aleatoria entre 3 y 15\n",
        "-   Los números del array son aleatorios enteros entre entre -99 y +99\n",
        "-   Los números del array serán todos pares, menos uno de ellos que será impar, o bien\n",
        "-   todos serán impares, menos uno de ellos que será par\n",
        "-   Crear una función a la que pasamos como argumento el array generado\n",
        "-   La función retorna ese número diferente\n",
        "-   Imprimir por pantalla el array y el valor retornado\n",
        "\n",
        "**Ejemplo**\n",
        "\n",
        "-   [2, 4, 0, 100, 4, 11, 2602, 36]\n",
        "\n",
        "\t*   Debería retornar: 11 (ya que es el único número impar del array)\n",
        "\n",
        "-   [160, 3, 1719, 19, 11, 13, -21]\n",
        "\n",
        "\t*   Debería retornar: 160 (ya que es el único número par del array)\n"
      ]
    },
    {
      "cell_type": "markdown",
      "metadata": {
        "id": "Gi-T5jVDIsss"
      },
      "source": [
        "# Day 4\n",
        "\n",
        "## Suma de números impares de un triángulo\n",
        "\n",
        "Dado un triángulo de números impares como este:\n",
        "\n",
        "```\n",
        "\t\t\t\t1\n",
        "\t\t\t3\t\t5\n",
        "\t\t7\t\t9\t\t11\n",
        "\t13\t\t15\t\t17\t\t19\n",
        "21\t\t23\t\t25\t\t27\t\t29\n",
        "```\n",
        "\n",
        "-   Se le pregunta al usuario cuántas filas debe tener el triángulo\n",
        "-   El programa calcualrá que numeros impares se tienen que sumar en cada fila y se mostrará como en el ejemplo\n",
        "\n",
        "**Ejemplo**\n",
        "\n",
        "-   El usuario pide 3 filas:\n",
        "\t-   1ª fila -> 1\n",
        "\t-   2ª fila -> 3 + 5 = 8\n",
        "\t-   3ª fila -> 7 + 9 + 11 = 27\n"
      ]
    },
    {
      "cell_type": "markdown",
      "metadata": {
        "id": "DU39Zenpjf3k"
      },
      "source": [
        "# Day 5\n",
        "\n",
        "## Distribuir texto en líneas\n",
        "\n",
        "-   Crear una función que reciba dos argumentos:\n",
        "    -   Una string no vacia\n",
        "    -   Un número entero entre 1 y la longitud de la frase\n",
        "-   La función debe imprimir el string con solo el número de caracteres indicado por cada fila\n",
        "\n",
        "**Ejemplo**\n",
        "\n",
        "-   Inputs:\n",
        "\n",
        "*   frase = \"ABCDEFG @HIJKLIMNOQRSTUVWXYZ\"\n",
        "*   n = 6\n",
        "\n",
        "-   Output:  \n",
        "    `ABCDEF`  \n",
        "    `G @HIJ`  \n",
        "    `KLIMNO`  \n",
        "    `QRSTUV`  \n",
        "    `WXYZ`\n"
      ]
    },
    {
      "cell_type": "markdown",
      "metadata": {
        "id": "b__ztuE8M3Ew"
      },
      "source": [
        "# Day 6\n",
        "\n",
        "## Matriz escalonada\n",
        "\n",
        "-\tCrear una matriz dado el número de filas (n):\n",
        "\n",
        "*\tn puede variar entre 1 y 20\n",
        "*\tel número de columnas siempre es el triple que el de filas\n",
        "*\tla matriz está compuesta por ceros y unos según la distribución que se muestra en la imagen\n",
        "\n",
        "-   El objetivo es imprimir la matriz en la terminal en función del n introducido\n",
        "\n",
        "![matriz.png](https://drive.google.com/uc?id=1yff9bW_yu-U1aTdbR2mTmWkD31ZPrqnc)\n",
        "\n",
        "-   Para n=5 se obtendría el siguiente resultado:\n",
        "\n",
        "![matriz.png](https://drive.google.com/uc?id=1Pz5wbwCls6DAwOh2SI0Nes-011nSLTjC)\n"
      ]
    },
    {
      "cell_type": "markdown",
      "metadata": {
        "id": "VPFImDCZvvb6"
      },
      "source": [
        "# Day 7\n",
        "## The Minion Game\n",
        "* Kevin and Stuart want to play the 'The Minion Game'.\n",
        "\n",
        "### Game Rules\n",
        "* Both players are given the same string, s.\n",
        "* Both players have to make substrings using the letters of the string s .\n",
        "* Stuart has to make words starting with consonants.\n",
        "* Kevin has to make words starting with vowels.\n",
        "* The game ends when both players have made all possible substrings.\n",
        "\n",
        "### Scoring\n",
        "* A player gets +1 point for each occurrence of the substring in the string s.\n",
        "\n",
        "#### For Example\n",
        "* String s = BANANA\n",
        "* Kevin's vowel beginning word = ANA\n",
        "* Here, ANA occurs twice in BANANA. Hence, Kevin will get 2 Points.\n",
        "\n",
        "* For better understanding, see the image below:\n",
        "\n",
        "<img src=\"https://drive.google.com/uc?id=1ZlwIeyG_dsLQ04dQeKuNsGF9l6l5FDmi\" alt=\"banana.png\" width=\"420\"/>\n",
        "\n",
        "<img src=\"https://github.com/financieras/AdventOfCode2021/blob/master/Banana.png?raw=1\" alt=\"Banana.png\" width=\"420\"/>\n",
        "\n",
        "\n",
        "* Your **task** is to determine the winner of the game and their score.\n",
        "\n",
        "### Function Description\n",
        "* Complete the minion_game in the editor below.\n",
        "* minion_game has the following parameters:\n",
        " - string string: the string to analyze\n",
        "\n",
        "### Prints\n",
        "* string: the winner's name and score, separated by a space on one line, or Draw if there is no winner\n",
        "\n",
        "### Input Format\n",
        "* A single line of input containing the string s.\n",
        "* Note: The string  will contain only uppercase letters [A-Z].\n",
        "\n",
        "### Constraints\n",
        "* 0 < len(s) < 10**6\n",
        "\n",
        "### Sample Input\n",
        "BANANA\n",
        "\n",
        "### Sample Output\n",
        "Stuart 12\n",
        "\n",
        "#### Note\n",
        "* Vowels are only defined as A, E, I, O, U."
      ]
    },
    {
      "cell_type": "markdown",
      "metadata": {
        "id": "9Avf8uZ4BtvT"
      },
      "source": [
        "# Day 8\n",
        "## List Comprehension\n",
        "* Nos dan tres números enteros x, y, z que representan  dimensiones en 3D, junto con un número entero n.\n",
        "* Tiene que imprimir una lista de todas las coordenadas posibles dadas por (i, j, k) en un espacio tridimensional donde la suma de i+j+k no es igual a n.\n",
        "* Siendo:\n",
        " - 0 <= i <= x\n",
        " - 0 <= j <= y\n",
        " - 0 <= k <= z\n",
        "* Formato de entrada:\n",
        " - Cuatro números enteros x, y, z, n en formato de tupla: (x,y,z,n)\n",
        "\n",
        "### Restricciones\n",
        "* Imprima la lista en orden lexicográfico creciente.\n",
        "\n",
        "### Ejemplo 1\n",
        "#### Entrada\n",
        " * (1,1,1,2)\n",
        "\n",
        "#### Salida\n",
        "* [[0, 0, 0], [0, 0, 1], [0, 1, 0], [1, 0, 0], [1 , 1, 1]]\n",
        "\n",
        "### Ejemplo 2\n",
        "#### Entrada\n",
        " * (1,1,2,3)\n",
        "\n",
        "#### Salida\n",
        "* [[0,0,0], [0,0,1], [0,0,2], [0,1,0], [0,1,1], [1,0,0], [1,0,1], [1,1,0], [1,1,2]]\n",
        "\n",
        "### Nota\n",
        "* Realizar el código utilizando una lista comprimida (List Comprehension)"
      ]
    },
    {
      "cell_type": "markdown",
      "metadata": {
        "id": "Tx9y75F7CAam"
      },
      "source": [
        "# Day 9\n",
        "## Generar matrices\n",
        "* Generar una **matriz cuadrada** de n filas y n columnas, esto es, de dimensión n×n\n",
        "* El valor de n puede variar entre 1 y 100\n",
        "* Si n es uno, la matriz es de un elemento, por ejemplo, [[5]]\n",
        "* Si n es dos la matriz es de dimensión 2×2, por ejemplo: [[1, 2], [0, -3]]\n",
        "* Los elementos de la matriz tienen que ser números aleatorios entreros entre -9 y +9.\n",
        "* La distribución de estos números debe seguir una distribución de probabilidad escalonada con las siguiente probabilidades: [25,20,16,12,9,7,5,3,2,1]\n",
        " - 25 indica que la probabilidad de que salga un 0 es del 25%\n",
        " - 20 indica que la probabilidad de que salga un 1 o -1 es del 20%\n",
        " - 16 indica que la probabilidad de que salga un 2 o -2 es del 16%\n",
        " - ... / ...\n",
        " - 1 indica que la probabilidad de que salga un 9 o -9 es del 1% \n",
        "* No puede existir ninguna fila o columna donde todos sus elementos sean cero.\n",
        "* Dado n mostrar la matriz en pantalla"
      ]
    },
    {
      "cell_type": "markdown",
      "metadata": {
        "id": "WaV3n_mx4T9j"
      },
      "source": [
        "# Day 10\n",
        "## Maximin\n",
        "### Función ```min```\n",
        "* La función ```min``` devuelve el valor mínimo a lo largo de un eje dado.\n",
        "\n",
        "```import numpy```\n",
        "\n",
        "```my_array = numpy.array([[2, 5], ```\n",
        "\n",
        "&nbsp;&nbsp;&nbsp;&nbsp;&nbsp;&nbsp;&nbsp;&nbsp;&nbsp;&nbsp;&nbsp;&nbsp;&nbsp;&nbsp;&nbsp;&nbsp;&nbsp;&nbsp;&nbsp;&nbsp;&nbsp;&nbsp;&nbsp;&nbsp;&nbsp;&nbsp;&nbsp;&nbsp;&nbsp;&nbsp;&nbsp;&nbsp;&nbsp;&nbsp;&nbsp;&nbsp;&nbsp;&nbsp;&nbsp;&nbsp;&nbsp;&nbsp;&nbsp;&nbsp;&nbsp;&nbsp;&nbsp;&nbsp;```[3, 7],```\n",
        "\n",
        "&nbsp;&nbsp;&nbsp;&nbsp;&nbsp;&nbsp;&nbsp;&nbsp;&nbsp;&nbsp;&nbsp;&nbsp;&nbsp;&nbsp;&nbsp;&nbsp;&nbsp;&nbsp;&nbsp;&nbsp;&nbsp;&nbsp;&nbsp;&nbsp;&nbsp;&nbsp;&nbsp;&nbsp;&nbsp;&nbsp;&nbsp;&nbsp;&nbsp;&nbsp;&nbsp;&nbsp;&nbsp;&nbsp;&nbsp;&nbsp;&nbsp;&nbsp;&nbsp;&nbsp;&nbsp;&nbsp;&nbsp;&nbsp;```[1, 3],```\n",
        "\n",
        "&nbsp;&nbsp;&nbsp;&nbsp;&nbsp;&nbsp;&nbsp;&nbsp;&nbsp;&nbsp;&nbsp;&nbsp;&nbsp;&nbsp;&nbsp;&nbsp;&nbsp;&nbsp;&nbsp;&nbsp;&nbsp;&nbsp;&nbsp;&nbsp;&nbsp;&nbsp;&nbsp;&nbsp;&nbsp;&nbsp;&nbsp;&nbsp;&nbsp;&nbsp;&nbsp;&nbsp;&nbsp;&nbsp;&nbsp;&nbsp;&nbsp;&nbsp;&nbsp;&nbsp;&nbsp;&nbsp;&nbsp;&nbsp;```[4, 0]])```\n",
        "\n",
        "\n",
        "```print numpy.min(my_array, axis = 0)         #Output : [1 0]```\n",
        "\n",
        "```print numpy.min(my_array, axis = 1)         #Output : [2 3 1 0]```\n",
        "\n",
        "```print numpy.min(my_array, axis = None)      #Output : 0```\n",
        "\n",
        "```print numpy.min(my_array)                   #Output : 0```\n",
        "\n",
        "* Por defecto, el valor del eje es None. Por lo tanto, encuentra el mínimo en todas las dimensiones de la matriz de entrada.\n",
        "\n",
        "### Función ```max```\n",
        "* La función ```max``` devuelve el valor máximo a lo largo de un eje dado.\n",
        "\n",
        "```import numpy```\n",
        "\n",
        "```my_array = numpy.array([[2, 5], ```\n",
        "\n",
        "&nbsp;&nbsp;&nbsp;&nbsp;&nbsp;&nbsp;&nbsp;&nbsp;&nbsp;&nbsp;&nbsp;&nbsp;&nbsp;&nbsp;&nbsp;&nbsp;&nbsp;&nbsp;&nbsp;&nbsp;&nbsp;&nbsp;&nbsp;&nbsp;&nbsp;&nbsp;&nbsp;&nbsp;&nbsp;&nbsp;&nbsp;&nbsp;&nbsp;&nbsp;&nbsp;&nbsp;&nbsp;&nbsp;&nbsp;&nbsp;&nbsp;&nbsp;&nbsp;&nbsp;&nbsp;&nbsp;&nbsp;&nbsp;```[3, 7],```\n",
        "\n",
        "&nbsp;&nbsp;&nbsp;&nbsp;&nbsp;&nbsp;&nbsp;&nbsp;&nbsp;&nbsp;&nbsp;&nbsp;&nbsp;&nbsp;&nbsp;&nbsp;&nbsp;&nbsp;&nbsp;&nbsp;&nbsp;&nbsp;&nbsp;&nbsp;&nbsp;&nbsp;&nbsp;&nbsp;&nbsp;&nbsp;&nbsp;&nbsp;&nbsp;&nbsp;&nbsp;&nbsp;&nbsp;&nbsp;&nbsp;&nbsp;&nbsp;&nbsp;&nbsp;&nbsp;&nbsp;&nbsp;&nbsp;&nbsp;```[1, 3],```\n",
        "\n",
        "&nbsp;&nbsp;&nbsp;&nbsp;&nbsp;&nbsp;&nbsp;&nbsp;&nbsp;&nbsp;&nbsp;&nbsp;&nbsp;&nbsp;&nbsp;&nbsp;&nbsp;&nbsp;&nbsp;&nbsp;&nbsp;&nbsp;&nbsp;&nbsp;&nbsp;&nbsp;&nbsp;&nbsp;&nbsp;&nbsp;&nbsp;&nbsp;&nbsp;&nbsp;&nbsp;&nbsp;&nbsp;&nbsp;&nbsp;&nbsp;&nbsp;&nbsp;&nbsp;&nbsp;&nbsp;&nbsp;&nbsp;&nbsp;```[4, 0]])```\n",
        "\n",
        "\n",
        "```print numpy.max(my_array, axis = 0)         #Output : [4 7]```\n",
        "\n",
        "```print numpy.max(my_array, axis = 1)         #Output : [5 7 3 4]```\n",
        "\n",
        "```print numpy.max(my_array, axis = None)      #Output : 7```\n",
        "\n",
        "```print numpy.max(my_array)                   #Output : 7```\n",
        "\n",
        "* Por defecto, el valor del eje es None. Por lo tanto, encuentra el máximo en todas las dimensiones de la matriz de entrada.\n",
        "\n",
        "### Objetivo\n",
        "* Dada una matriz de orden nxm su tarea es calcular la función mínima sobre el eje 1 y luego encontrar el máximo de eso.\n",
        "\n",
        "### Input\n",
        "* La primera línea de entrada contiene los valores n y m separados por un espacio. Las siguientes n líneas contienen m conjuntos de enteros separados por espacios.\n",
        "\n",
        "### Output\n",
        "* Calcule el mínimo a lo largo del eje 1 y luego imprima el máximo de ese resultado.\n",
        "\n",
        "### Ejemplo\n",
        "#### Input\n",
        "4 2  \n",
        "2 5  \n",
        "3 7  \n",
        "1 3  \n",
        "4 0\n",
        "\n",
        "#### Output\n",
        "3\n",
        "\n",
        "#### Explicación\n",
        "* El mínio a lo largo del eje 1 = [2,3,1,0]\n",
        "* El máximo de [2,3,1,0] es 3.\n",
        "\n",
        "## Nota\n",
        "* Cree una función que genere aleatoriamente los inputs con diferentes dimensiones posibles.\n",
        "* Cree una función que calcule el output."
      ]
    },
    {
      "cell_type": "markdown",
      "metadata": {
        "id": "y-tCHlbWsq7t"
      },
      "source": [
        "# Day 11\n",
        "## Capitalize\n",
        "* Disponemos de una lista de nombres y una lista de apellidos\n",
        " - nombres = ['alba','alberto','alejandro','alicia','álvaro','ana','andrés','antonio','carla','carlos','carmen','cristina','daniel','david','eduardo','enrique','esther','eva','felipe','gabriel','hector','helena','hugo','isabel','iván','javier','jesus','jorge','juan','laura','lucas','lucía','luis','manuel','mar','margarita','maría','marta','martina','miguel','patricia','paula','pilar','raquel','raúl','rocío','samuel','sara','sonia','teresa']\n",
        " - apellidos = ['alonso','álvarez','blanco','cano','castillo','castro','cortes','delgado','diaz','dominguez','fernandez','garcía','garrido','gil','gomez','gonzalez','guerrero','gutierrez','hernandez','iglesias','jimenez','lopez','lozano','marin','martin','martinez','medina','mendez','molina','morales','moreno','muñoz','navarro','nuñez','ortega','ortiz','perez','ramirez','ramos','rodriguez','romero','rubio','ruiz','sanchez','santos','sanz','serrano','suarez','torres','vazquez']\n",
        "* Crear una función que elige aleatoriamente un nombre y un apellido para formar con ellos el nombre y apellido de una persona, por ejemplo:\n",
        " - iván nuñez\n",
        " - raquel álvarez\n",
        "* El programa devuelve el nombre y el apellido con la primera letra en mayúsculas del nombre y del apellido, por ejemplo:\n",
        " - Iván Nuñez\n",
        " - Raquel Álvarez\n",
        "* Se ha de lograr sin utilizar la función ```title``` en Python que conseguiría el mismo resultado.\n",
        "* * Se ha de lograr sin utilizar la función ```capitalize```"
      ]
    },
    {
      "cell_type": "markdown",
      "metadata": {
        "id": "B5IvCwmd0cLA"
      },
      "source": [
        "# Day 12\n",
        "## Genética\n",
        "* El ADN es una molécula formada por la combinación de las cuatro letras que son la base del código genético:\n",
        " - adenina (A)\n",
        " - timina (T)\n",
        " - citosina (C)\n",
        " - guanina (G)\n",
        "* Por ejemplo:\n",
        "  - AATCGCGCACCAATGCAATT\n",
        "* Crear una función que genere combinaciones de estas cuatro letras de forma aleatoria.\n",
        " - A esta combinación la llamaremos **palabra**\n",
        " - Las palabras que genere nuestra función tendrán una longitud de 102 caracteres\n",
        " - Cada una de las letras aparecerá en términos de probabilidad con los siguientes porcentajes que son los del ADN humano:\n",
        "  * A: 29,3%\n",
        "  * G: 20,7%\n",
        "  * C: 20%\n",
        "  * T: 30%\n",
        "* De la palabra generada obtendremos aleatoriamente una subcadena de 3 caracteres que llamaremos **secuencia**.\n",
        "* Mostrar en pantalla la palabra\n",
        "* Mostrar en pantalla todas las secuencias que se repitan más de una vez.\n",
        "* Decir cuantas veces se encuentra contenida la secuencia dentro de la palabra (frecuencia)\n",
        "* Ejemplo\n",
        " - La palabra debería ser de 102 caracteres, pero en el ejemplo usaremos una de 20 caracteres.  \n",
        " La palabra es \n",
        " AATCGCGCACCAATGCAATT\n",
        " - Se mostrará en pantalla una tabla como la siguiente:  \n",
        " \n",
        "| Secuencia | Frecuencia |\n",
        "| :---: | :-: |\n",
        "| AAT | 3 |\n",
        "| CGC | 2 |\n",
        "| GCA | 2 |\n",
        "| CAA | 2 |\n",
        "\n",
        " - Comentario\n",
        "  * La secuencia AAT está contenida en la palabra AATCGCGCACCAATGCAATT 3 veces.\n",
        "  * La secuencia CGC está contenida en la palabra AATCGCGCACCAATGCAATT 2 veces.\n",
        "  * Explicación de porque CGC está dos veces. Existe un tramo de la palabra que es CGCGC donde la secuencia buscada está dos veces.\n",
        "\n",
        "* Nota  \n",
        "Si una palabra no contiene ninguna secuencia con frecuencia mayor a 1, descartar la palabra y generar otra. Seguir generando palabras hasta que obtengamos alguna que contenga al menos una secuencia con frecuencia mayor a 1."
      ]
    },
    {
      "cell_type": "markdown",
      "metadata": {
        "id": "2iTdkkE54BWj"
      },
      "source": [
        "# Day 13\n",
        "## Mutaciones\n",
        "* Nos basamos en el reto anterior donde generamos palabras de 102 caracteres con las cuatro letras del alfabeto genético ACGT.\n",
        "* Dada una palabra de 102 caracteres\n",
        " - Obtener todas las secuencias de 3 caracteres que tengan frecuencia mayor a 1\n",
        " - Realizar la **mutación**: alterar algun(os) caracter(es) de alguna(s) de las secuencias repetidas para conseguir que en la 'palabra mutada' no existan secuencias de 3 caracteres con repetición.\n",
        "* Mostrar la palabra de 102 caracteres antes y después de haber realizado la mutación\n",
        "* Ejemplo\n",
        " - La palabra debería ser de 102 caracteres, pero en el ejemplo usaremos una de 20 caracteres.\n",
        " - Palabra original: AATCGC**G**CACC**A**ATGCA**A**TT\n",
        " - Palabra  mutada:  AATCGC**T**CACC**C**ATGCA**G**TT\n",
        " - Registro binario: 00000010000100000100\n",
        "* El 'registro binario' es una secuencia de ceros y unos, donde:\n",
        " - Si el caracter no ha cambiado se pone un 0\n",
        " - Si el caracter ha mutado se pone un 1\n",
        "* El objetivo es eliminar todas las repeticiones de secuencias de 3 caracteres y conseguirlo procurando las mínimas alteraciones en la palabra original\n",
        "* En el ejemplo la suma de los unos del registro binario es 3, lo que indica que únicamente se han alterado tres caracteres de la palabra original (tres mutaciones), y con ello hemos conseguido que desaparezcan todas las repeticiones en la secuencias de 3 caracteres."
      ]
    },
    {
      "cell_type": "markdown",
      "metadata": {
        "id": "uTlxCUB-hiz_"
      },
      "source": [
        "# Day 14\n",
        "## Separar elementos de una lista\n",
        "* Generar una lista de 20 elementos con valores aleatorios donde en términos probables:\n",
        " - el 45% sean números\n",
        " - el 35% sean letras o símbolos\n",
        " - el 20% sean valores booleanos (True, False)\n",
        "* Mostrar la lista generada en pantalla\n",
        "* Separar la lista original en tres listas\n",
        " - una lista con los números\n",
        " - otra lista con las letras y símbolos\n",
        " - y finalmente otra lista con los valores booleanos"
      ]
    },
    {
      "cell_type": "markdown",
      "metadata": {
        "id": "njoJYxJyhiz_"
      },
      "source": [
        "# Day 15\n",
        "### Numero total de combinaciones con 3 digitos donde num1<num2<num3\n",
        "* Por ejemplo 123 467 serían combinaciones validas y 435 673 no\n",
        "* Se debe dar el numero total de estas combinaciones"
      ]
    },
    {
      "cell_type": "markdown",
      "metadata": {
        "id": "bGh2k0Rohiz_"
      },
      "source": [
        "# Day 16\n",
        "## Comprobador de letras repetidas\n",
        "* Crear una función que recoge un parámetro string\n",
        "* La función debe retornar cuantas veces aparecen las palabras repetidas\n",
        "\n",
        "Ejemplo:\n",
        "\n",
        "String = \"yes yes bye good okay bye okay bye\"\n",
        "\n",
        "Output = \"yes\" 2, \"okay\" 2, \"bye\" 3 "
      ]
    },
    {
      "cell_type": "markdown",
      "metadata": {
        "id": "NJpvBafOhi0A"
      },
      "source": [
        "# Day 17\n",
        "## Aplicación con JSON\n",
        "* Crear menú para interactuar con un JSON\n",
        "* Ver la información que contiene el JSON\n",
        "* Poder añadir información\n",
        "    * Nuevos alumnos\n",
        "    * Nuevas notas\n",
        "* Poder editar información ya existente\n",
        "* Poder eliminar información\n",
        "* Calcular la nota media automáticamente\n",
        "\n",
        "JSON de ejemplo:\n",
        "```json\n",
        "{\n",
        "\t\"Maria\": {\n",
        "\t\t\"average\": null,\n",
        "\t\t\"grades\": [1.0, 2.5, 5.3, 2.7]\n",
        "\t},\n",
        "\t\"Alberto\": {\n",
        "\t\t\"average\": null,\n",
        "\t\t\"grades\": [9.2, 4.2, 7.9, 1.4]\n",
        "\t},\n",
        "\t\"Victor\": {\n",
        "\t\t\"average\": null,\n",
        "\t\t\"grades\": [9.6, 9.7, 5.1, 7.5]\n",
        "\t},\n",
        "\t\"Tania\": {\n",
        "\t\t\"average\": null,\n",
        "\t\t\"grades\": [7.4, 6.1, 1.2, 3.9]\n",
        "\t}\n",
        "}\n",
        "\n",
        "```"
      ]
    },
    {
      "cell_type": "markdown",
      "metadata": {
        "id": "R0f-DXmshi0A"
      },
      "source": [
        "# Day 18\n",
        "## Juego de la ultima piedra\n",
        "* Generar un numero aleatorio de piedras. (15-30 por ejemplo)\n",
        "* Hay dos jugadores, en cada turno pueden elegir quitar 1, 2 o 3 piedras, siempre hay que quitar piedras\n",
        "* El jugador que quite la ultima piedra pierde\n",
        "* Uno de los jugadores es la maquina"
      ]
    },
    {
      "cell_type": "markdown",
      "metadata": {
        "id": "w5gzQXHPhi0A"
      },
      "source": [
        "# Day 19\n",
        "## Diferencia de diagonales\n",
        "* Generar una matriz cuadrada de nº aleatorios de orden n, con n>1\n",
        "* Los elementos de la matriz serán números aleatorios entreros entre -9 y +9.\n",
        "* Sumar los elementos de la diagonal principal\n",
        "* Sumar los elementos de la diagonal secundaria\n",
        "* Imprimir el valor absoluto de la diferencia de ambas sumas\n",
        "\n",
        "![diagonal](https://github.com/financieras/AdventOfCode2021/blob/master/diagonal.jpg?raw=1)"
      ]
    },
    {
      "cell_type": "markdown",
      "metadata": {
        "id": "UF-zaxItzAyb"
      },
      "source": [
        "# Day 20\n",
        "## Histograma de la distribución de Poisson\n",
        "* Generar un array con la distrubución de [Poisson](https://en.wikipedia.org/wiki/Poisson_distribution)\n",
        "* El array debe contener un gran numero de elementos, por ejemplo un millón\n",
        "* Probar con diferentes medias (lambda)\n",
        "* Mostrar un grafico con el histograma de frecuencias"
      ]
    },
    {
      "cell_type": "markdown",
      "metadata": {
        "id": "MUJ5Onf9h-8U"
      },
      "source": [
        "# Day 21\n",
        "## Canguros saltando\n",
        "* Disponemos de dos canguros en un circo que saltan en una pista lineal numerada.\n",
        "* Siempre saltan hacia la derecha, hacia valores positivos, cada vez mayores en la recta\n",
        "* El canguro 1 parte del punto $x_1$ y se mueve con velocidad $v_1$\n",
        "* El canguro 2 parte del punto $x_2$ y se mueve con velocidad $v_2$\n",
        "* Se trata de ver si los dos canguros estén en el mismo lugar al mismo tiempo como parte del espectáculo.\n",
        "* Crearemos la función kangaroo donde si no es posible que los canguros coincidan, devuelve NO, de lo contrario devuelve en que posición $x$ coinciden.\n",
        "* Ejemplo\n",
        " - $x_1=2$\n",
        " - $v_1=1$\n",
        " - $x_2=1$\n",
        " - $v_2=2$\n",
        " - Después de un salto, ambos están en $x=3$, por lo que la respuesta es 1.\n",
        " - Sabemos que coinciden en $x=3$ ya que:\n",
        "   * $x_1 + v_1 = 2 + 1 = 3$\n",
        "   * $x_2 + v_2 = 1 + 2 = 3$\n",
        "* La función kangaroo recibe un único parámetro que es un string con cuatro números separados por un espacio. Los números son $x_1 \\; v_1 \\; x_2 \\; v_2$ en ese orden.\n",
        "* Crear otra función que genere el string con los cuatro valores anteriores para podérselos pasar a la función kangaroo\n",
        "* Rangos de variación\n",
        " - $0 \\leq x_1 < x_2 \\leq 10000$\n",
        " - $1 \\leq v_1 \\leq 10000$\n",
        " - $1 \\leq v_2 \\leq 10000$\n",
        " - todos son valores enteros\n",
        "\n",
        "#### Ejemplo\n",
        "* Los valores de entrada de la función kangaroo, en forma de un string, son\n",
        " - 0 3 4 2\n",
        "\n",
        "<img src=\"https://github.com/financieras/AdventOfCode2021/blob/master/kangaroo.png?raw=1\" alt=\"Banana.png\" width=\"600\"/>\n",
        "\n",
        "* De la imagen, está claro que los canguros se encuentran en el mismo lugar (número en la recta numérica) después de la misma cantidad de saltos (4 saltos), e imprimimos 4.\n",
        "\n",
        "#### Ejemplo\n",
        "* Los valores de entrada de la función kangaroo, en forma de un string, son\n",
        " - 0 2 5 3\n",
        "* El segundo canguro tiene una ubicación de inicio que está adelante (más a la derecha) de la ubicación de inicio del primer canguro (es decir, $x_2 > x_1$). Debido a que el segundo canguro se mueve a un ritmo más rápido (es decir, $v_2 > v_1$) y ya está por delante del primer canguro, el primer canguro nunca podrá alcanzarlo. Por lo tanto, imprimimos NO.\n",
        "\n",
        "### Función genera\n",
        "* La función genera crea un string con los cuatro valores $x_1 \\; v_1 \\; x_2 \\; v_2$ en ese orden.\n",
        "* Cada uno de esos valores se puede obtener de una distribución de Poisson o distribución de los grandes números.\n",
        "* Como esta distribución comienza en 0 es ideal para $x_1$ y para $x_2$. En el caso de $v_1$ y para $v_2$ como comienzan en 1, se puede lograr sumando 1 al número aleatorio obtenido de la Poisson.\n",
        "* La distribución de Poisson es una distribución de un solo parámetro que es su media. Obtener esa media usando un número aleatorio entero y pequeño.\n",
        " - Por ejemplo medias que van entre 2 y 9, pueden estar bien."
      ]
    },
    {
      "cell_type": "markdown",
      "metadata": {
        "id": "0HDU4bNMzAyc"
      },
      "source": [
        "# Day 22\n",
        "## Resolver un sistema de ecuaciones de solución única\n",
        "* Primero: generar un sistema de ecuaciones de solución única.\n",
        "* Segundo: resolver el sistema generado."
      ]
    },
    {
      "cell_type": "markdown",
      "metadata": {
        "id": "ZNPzGPWizOD2"
      },
      "source": [
        "# Day 23\n",
        "## Calcular la TIR de una inversión\n",
        "* Dada una inversión con una serie de flujos de caja anuales, calcular la TIR ([IRR](https://en.wikipedia.org/wiki/Internal_rate_of_return) en inglés) por varios métodos:\n",
        " - Usando alguna librería\n",
        " - Crear una función que calcula la TIR por aproximaciones sucesivas, usando cálculo numérico\n",
        "* Crear una función que genera una inversión con posible flujos de caja para luego poder pasar estos flujos de caja a la otra función y obtener la TIR\n",
        "* Ejemplo\n",
        " - La TIR de la siguiente operación de inversión es del 10% anual.\n",
        "\n",
        "| Años | Flujos de caja |\n",
        "| :---: | :-: |\n",
        "| 0 | -4.000 |\n",
        "| 1 | 1.400 |\n",
        "| 2 | 1.300 |\n",
        "| 3 | 1.200 |\n",
        "| 4 | 1.100 |"
      ]
    },
    {
      "cell_type": "markdown",
      "metadata": {
        "id": "hp6SEpUNeYdB"
      },
      "source": [
        "# Day 24\n",
        "## Óptimos de Pareto\n",
        "* Generar $n$ parejas de números aleatorios $(x,y)$, donde cada pareja representa un punto del plano\n",
        " - $n$ pueden ser por ejemplo 50 parejas\n",
        " - x e y pueden ser números aleatorios con decimales, entre 0 y 1\n",
        "* Considerar que la coordenada x representa la producción del bien A\n",
        "* Considerar que la coordenada y representa la producción del bien B\n",
        "* Generar diferentes conjuntos de $n$ puntos aleatorios hasta llegar a obtener un caso donde de ellos $m$ puntos sean óptimos de Pareto\n",
        " - donde $m<n$\n",
        " - siendo $m$, por ejemplo, 16 puntos del plano\n",
        "* El óptimo de pareto se alcanza maximizando la producción de los bienes A y B\n",
        "* Representar los $n$ puntos en el plano, diferenciando con otro color los $m$ puntos óptios de Pareto.\n",
        "\n",
        "<img src=\"https://github.com/financieras/AdventOfCode2021/blob/master/pareto16.png?raw=1\" alt=\"pareto.png\" width=\"480\"/>"
      ]
    },
    {
      "cell_type": "markdown",
      "metadata": {
        "id": "ypvIF2SPzAyc"
      },
      "source": [
        "# Day 25\n",
        "# Tic-tac-toe\n",
        "Programar el juego de las tres en raya."
      ]
    }
  ],
  "metadata": {
    "colab": {
      "collapsed_sections": [],
      "include_colab_link": true,
      "name": "retos.ipynb",
      "provenance": []
    },
    "kernelspec": {
      "display_name": "Python 3.8.10 64-bit",
      "language": "python",
      "name": "python3"
    },
    "language_info": {
      "name": "python",
      "version": "3.8.10"
    },
    "vscode": {
      "interpreter": {
        "hash": "916dbcbb3f70747c44a77c7bcd40155683ae19c65e1c03b4aa3499c5328201f1"
      }
    }
  },
  "nbformat": 4,
  "nbformat_minor": 0
}
